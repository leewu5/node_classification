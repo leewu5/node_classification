{
 "cells": [
  {
   "cell_type": "code",
   "execution_count": 1,
   "id": "initial_id",
   "metadata": {
    "collapsed": true,
    "ExecuteTime": {
     "end_time": "2023-10-30T06:28:52.072150800Z",
     "start_time": "2023-10-30T06:28:49.548697200Z"
    }
   },
   "outputs": [],
   "source": [
    "import numpy as np\n",
    "edges = np.loadtxt(\"DBLP\\edges.txt\", dtype=int)"
   ]
  },
  {
   "cell_type": "code",
   "execution_count": 2,
   "outputs": [],
   "source": [
    "adjacency_dict = {}\n",
    "\n",
    "for i in range(4057):\n",
    "    adjacency_dict[i] = []\n",
    "\n",
    "for array in edges:\n",
    "    adjacency_dict[array[0]].append(array[1])"
   ],
   "metadata": {
    "collapsed": false,
    "ExecuteTime": {
     "end_time": "2023-10-30T06:28:53.999837500Z",
     "start_time": "2023-10-30T06:28:52.059896300Z"
    }
   },
   "id": "f02810a4b4a0b837"
  },
  {
   "cell_type": "code",
   "execution_count": 3,
   "outputs": [],
   "source": [
    "y = np.loadtxt(\"DBLP\\labels.txt\", dtype=int)"
   ],
   "metadata": {
    "collapsed": false,
    "ExecuteTime": {
     "end_time": "2023-10-30T06:28:54.025818100Z",
     "start_time": "2023-10-30T06:28:53.992069300Z"
    }
   },
   "id": "645b0d4149f20377"
  },
  {
   "cell_type": "code",
   "execution_count": 4,
   "outputs": [
    {
     "name": "stdout",
     "output_type": "stream",
     "text": [
      "640\n"
     ]
    }
   ],
   "source": [
    "yt = {}\n",
    "\n",
    "for label in y[:640]:\n",
    "    yt[label[0]] = label[1]\n",
    "\n",
    "print(len(yt))"
   ],
   "metadata": {
    "collapsed": false,
    "ExecuteTime": {
     "end_time": "2023-10-30T06:28:54.081214300Z",
     "start_time": "2023-10-30T06:28:54.007750100Z"
    }
   },
   "id": "20aaa951b707befc"
  },
  {
   "cell_type": "code",
   "execution_count": 10,
   "outputs": [],
   "source": [
    "import random\n",
    "\n",
    "gen_label = {}\n",
    "for i in range(640, 4057):\n",
    "    gen_label[i] = []\n",
    "    \n",
    "for _ in range(1):\n",
    "    temp = yt.copy()\n",
    "    nodes = list(range(640, 4057))\n",
    "    while nodes:\n",
    "        node = random.choice(nodes)\n",
    "        nodes = list(filter(lambda x: x != node, nodes))\n",
    "        neighbors = adjacency_dict[node]\n",
    "        counts = [0, 0, 0, 0]\n",
    "        for it in neighbors:\n",
    "            if temp.get(it) != None:\n",
    "                counts[temp[it]] += 1\n",
    "        max_value = max(counts)\n",
    "        max_index = counts.index(max_value)\n",
    "        temp[node] = max_index\n",
    "        gen_label[node].append(max_index)"
   ],
   "metadata": {
    "collapsed": false,
    "ExecuteTime": {
     "end_time": "2023-10-30T06:29:10.310507Z",
     "start_time": "2023-10-30T06:29:08.584324100Z"
    }
   },
   "id": "73fd290efde135d2"
  },
  {
   "cell_type": "code",
   "execution_count": 6,
   "outputs": [],
   "source": [
    "import statistics\n",
    "\n",
    "for node in gen_label:\n",
    "    yt[node] = statistics.mode(gen_label[node])"
   ],
   "metadata": {
    "collapsed": false,
    "ExecuteTime": {
     "end_time": "2023-10-30T06:28:55.626479600Z",
     "start_time": "2023-10-30T06:28:55.582161600Z"
    }
   },
   "id": "5b12f4dabb9fbbb6"
  },
  {
   "cell_type": "code",
   "execution_count": 7,
   "outputs": [
    {
     "name": "stdout",
     "output_type": "stream",
     "text": [
      "0.69375\n"
     ]
    }
   ],
   "source": [
    "right = 0\n",
    "for label in y[641:]:\n",
    "    if yt[label[0]] == label[1]:\n",
    "        right += 1\n",
    "acc = right/160\n",
    "print(acc)"
   ],
   "metadata": {
    "collapsed": false,
    "ExecuteTime": {
     "end_time": "2023-10-30T06:28:55.648812700Z",
     "start_time": "2023-10-30T06:28:55.630685300Z"
    }
   },
   "id": "51326c033194328c"
  },
  {
   "cell_type": "code",
   "execution_count": 8,
   "outputs": [],
   "source": [
    "# train_mask = []\n",
    "# test_mask = []\n",
    "# \n",
    "# for i in range(640):\n",
    "#     train_mask.append(True)\n",
    "#     test_mask.append(False)\n",
    "# \n",
    "# for i in range(641, 800):\n",
    "#     train_mask.append(False)\n",
    "#     test_mask.append(True)"
   ],
   "metadata": {
    "collapsed": false,
    "ExecuteTime": {
     "end_time": "2023-10-30T06:28:55.705046Z",
     "start_time": "2023-10-30T06:28:55.645285700Z"
    }
   },
   "id": "8fa996168bf19ab2"
  },
  {
   "cell_type": "code",
   "execution_count": 9,
   "outputs": [],
   "source": [
    "# from collections import namedtuple\n",
    "# \n",
    "# Data = namedtuple('Data', ['x', 'y', 'adjacency_dict', 'train_mask', 'test_mask'])\n",
    "# \n",
    "# data = Data(x=np.array(x), y=np.array(yt), adjacency_dict=adjacency_dict,\n",
    "#                 train_mask=np.array(train_mask), test_mask=np.array(test_mask))"
   ],
   "metadata": {
    "collapsed": false,
    "ExecuteTime": {
     "end_time": "2023-10-30T06:28:55.711600100Z",
     "start_time": "2023-10-30T06:28:55.660908Z"
    }
   },
   "id": "7333784c34062a10"
  }
 ],
 "metadata": {
  "kernelspec": {
   "display_name": "Python 3",
   "language": "python",
   "name": "python3"
  },
  "language_info": {
   "codemirror_mode": {
    "name": "ipython",
    "version": 2
   },
   "file_extension": ".py",
   "mimetype": "text/x-python",
   "name": "python",
   "nbconvert_exporter": "python",
   "pygments_lexer": "ipython2",
   "version": "2.7.6"
  }
 },
 "nbformat": 4,
 "nbformat_minor": 5
}
