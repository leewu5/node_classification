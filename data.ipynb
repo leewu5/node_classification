{
 "cells": [
  {
   "cell_type": "code",
   "execution_count": 1,
   "id": "initial_id",
   "metadata": {
    "collapsed": true,
    "ExecuteTime": {
     "end_time": "2023-10-26T16:10:12.922099100Z",
     "start_time": "2023-10-26T16:10:10.751521500Z"
    }
   },
   "outputs": [],
   "source": [
    "import numpy as np\n",
    "edges = np.loadtxt(\"DBLP\\edges.txt\", dtype=int)"
   ]
  },
  {
   "cell_type": "code",
   "execution_count": 2,
   "outputs": [],
   "source": [
    "adjacency_dict = {}\n",
    "\n",
    "for i in range(4057):\n",
    "    adjacency_dict[i] = []\n",
    "\n",
    "for array in edges:\n",
    "    adjacency_dict[array[0]].append(array[1])"
   ],
   "metadata": {
    "collapsed": false,
    "ExecuteTime": {
     "end_time": "2023-10-26T16:10:14.721370600Z",
     "start_time": "2023-10-26T16:10:12.932956800Z"
    }
   },
   "id": "f02810a4b4a0b837"
  },
  {
   "cell_type": "code",
   "execution_count": 3,
   "outputs": [],
   "source": [
    "y = np.loadtxt(\"DBLP\\labels.txt\", dtype=int)"
   ],
   "metadata": {
    "collapsed": false,
    "ExecuteTime": {
     "end_time": "2023-10-26T16:10:14.742009700Z",
     "start_time": "2023-10-26T16:10:14.726348400Z"
    }
   },
   "id": "645b0d4149f20377"
  },
  {
   "cell_type": "code",
   "execution_count": 4,
   "outputs": [
    {
     "name": "stdout",
     "output_type": "stream",
     "text": [
      "640\n"
     ]
    }
   ],
   "source": [
    "yt = {}\n",
    "\n",
    "for label in y[:640]:\n",
    "    yt[label[0]] = label[1]\n",
    "\n",
    "print(len(yt))"
   ],
   "metadata": {
    "collapsed": false,
    "ExecuteTime": {
     "end_time": "2023-10-26T16:10:14.772895200Z",
     "start_time": "2023-10-26T16:10:14.746612900Z"
    }
   },
   "id": "20aaa951b707befc"
  },
  {
   "cell_type": "code",
   "execution_count": null,
   "outputs": [],
   "source": [
    "import random\n",
    "\n",
    "gen_label = {}\n",
    "for i in range(640, 4057):\n",
    "    gen_label[i] = []\n",
    "    \n",
    "for _ in range(100000):\n",
    "    temp = yt.copy()\n",
    "    nodes = list(range(640, 4057))\n",
    "    while nodes:\n",
    "        node = random.choice(nodes)\n",
    "        nodes = list(filter(lambda x: x != node, nodes))\n",
    "        neighbors = adjacency_dict[node]\n",
    "        counts = [0, 0, 0, 0]\n",
    "        for it in neighbors:\n",
    "            if temp.get(it) != None:\n",
    "                counts[temp[it]] += 1\n",
    "        max_value = max(counts)\n",
    "        max_index = counts.index(max_value)\n",
    "        temp[node] = max_index\n",
    "        gen_label[node].append(max_index)"
   ],
   "metadata": {
    "collapsed": false,
    "is_executing": true,
    "ExecuteTime": {
     "start_time": "2023-10-26T16:10:14.761455300Z"
    }
   },
   "id": "73fd290efde135d2"
  },
  {
   "cell_type": "code",
   "execution_count": null,
   "outputs": [],
   "source": [
    "import statistics\n",
    "\n",
    "for node in gen_label:\n",
    "    yt[node] = statistics.mode(gen_label[node])"
   ],
   "metadata": {
    "collapsed": false,
    "is_executing": true
   },
   "id": "5b12f4dabb9fbbb6"
  },
  {
   "cell_type": "code",
   "execution_count": null,
   "outputs": [],
   "source": [
    "right = 0\n",
    "for label in y[641:]:\n",
    "    if yt[label[0]] == label[1]:\n",
    "        right += 1\n",
    "acc = right/160\n",
    "print(acc)"
   ],
   "metadata": {
    "collapsed": false,
    "is_executing": true
   },
   "id": "51326c033194328c"
  },
  {
   "cell_type": "code",
   "execution_count": null,
   "outputs": [],
   "source": [
    "# train_mask = []\n",
    "# test_mask = []\n",
    "# \n",
    "# for i in range(640):\n",
    "#     train_mask.append(True)\n",
    "#     test_mask.append(False)\n",
    "# \n",
    "# for i in range(641, 800):\n",
    "#     train_mask.append(False)\n",
    "#     test_mask.append(True)"
   ],
   "metadata": {
    "collapsed": false,
    "is_executing": true
   },
   "id": "8fa996168bf19ab2"
  },
  {
   "cell_type": "code",
   "execution_count": null,
   "outputs": [],
   "source": [
    "# from collections import namedtuple\n",
    "# \n",
    "# Data = namedtuple('Data', ['x', 'y', 'adjacency_dict', 'train_mask', 'test_mask'])\n",
    "# \n",
    "# data = Data(x=np.array(x), y=np.array(yt), adjacency_dict=adjacency_dict,\n",
    "#                 train_mask=np.array(train_mask), test_mask=np.array(test_mask))"
   ],
   "metadata": {
    "collapsed": false,
    "is_executing": true
   },
   "id": "7333784c34062a10"
  }
 ],
 "metadata": {
  "kernelspec": {
   "display_name": "Python 3",
   "language": "python",
   "name": "python3"
  },
  "language_info": {
   "codemirror_mode": {
    "name": "ipython",
    "version": 2
   },
   "file_extension": ".py",
   "mimetype": "text/x-python",
   "name": "python",
   "nbconvert_exporter": "python",
   "pygments_lexer": "ipython2",
   "version": "2.7.6"
  }
 },
 "nbformat": 4,
 "nbformat_minor": 5
}
