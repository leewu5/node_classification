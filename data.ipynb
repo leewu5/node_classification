{
 "cells": [
  {
   "cell_type": "code",
   "execution_count": null,
   "id": "initial_id",
   "metadata": {
    "collapsed": true
   },
   "outputs": [],
   "source": [
    "import numpy as np\n",
    "edges = np.loadtxt(\"DBLP\\edges.txt\", dtype=int)"
   ]
  },
  {
   "cell_type": "code",
   "execution_count": null,
   "outputs": [],
   "source": [
    "adjacency_dict = {}\n",
    "\n",
    "for i in range(4057):\n",
    "    adjacency_dict[i] = []\n",
    "\n",
    "for array in edges:\n",
    "    adjacency_dict[array[0]].append(array[1])"
   ],
   "metadata": {
    "collapsed": false
   },
   "id": "f02810a4b4a0b837"
  },
  {
   "cell_type": "code",
   "execution_count": null,
   "outputs": [],
   "source": [
    "y = np.loadtxt(\"DBLP\\labels.txt\", dtype=int)"
   ],
   "metadata": {
    "collapsed": false
   },
   "id": "645b0d4149f20377"
  },
  {
   "cell_type": "code",
   "execution_count": null,
   "outputs": [],
   "source": [
    "yt = {}\n",
    "\n",
    "for label in y[:640]:\n",
    "    yt[label[0]] = label[1]\n",
    "\n",
    "print(len(yt))"
   ],
   "metadata": {
    "collapsed": false
   },
   "id": "20aaa951b707befc"
  },
  {
   "cell_type": "code",
   "execution_count": null,
   "outputs": [],
   "source": [
    "import random\n",
    "\n",
    "gen_label = {}\n",
    "for i in range(640, 4057):\n",
    "    gen_label[i] = []\n",
    "    \n",
    "for _ in range(10):\n",
    "    temp = yt.copy()\n",
    "    nodes = list(range(640, 4057))\n",
    "    while nodes:\n",
    "        node = random.choice(nodes)\n",
    "        nodes = list(filter(lambda x: x != node, nodes))\n",
    "        neighbors = adjacency_dict[node]\n",
    "        counts = [0, 0, 0, 0]\n",
    "        for it in neighbors:\n",
    "            if temp.get(it) != None:\n",
    "                counts[temp[it]] += 1\n",
    "        max_value = max(counts)\n",
    "        max_index = counts.index(max_value)\n",
    "        temp[node] = max_index\n",
    "        gen_label[node].append(max_index)\n",
    "\n",
    "print(gen_label)"
   ],
   "metadata": {
    "collapsed": false
   },
   "id": "73fd290efde135d2"
  },
  {
   "cell_type": "code",
   "execution_count": null,
   "outputs": [],
   "source": [
    "import statistics\n",
    "\n",
    "for node in gen_label:\n",
    "    yt[node] = statistics.mode(gen_label[node])"
   ],
   "metadata": {
    "collapsed": false
   },
   "id": "5b12f4dabb9fbbb6"
  },
  {
   "cell_type": "markdown",
   "source": [],
   "metadata": {
    "collapsed": false
   },
   "id": "e37f396860f91ff7"
  },
  {
   "cell_type": "code",
   "execution_count": null,
   "outputs": [],
   "source": [
    "print(yt)"
   ],
   "metadata": {
    "collapsed": false
   },
   "id": "68703a73f1d6b2d9"
  },
  {
   "cell_type": "code",
   "execution_count": null,
   "outputs": [],
   "source": [
    "right = 0\n",
    "for label in y[641:]:\n",
    "    if yt[label[0]] == label[1]:\n",
    "        right += 1\n",
    "acc = right/160\n",
    "print(acc)"
   ],
   "metadata": {
    "collapsed": false
   },
   "id": "51326c033194328c"
  },
  {
   "cell_type": "code",
   "execution_count": null,
   "outputs": [],
   "source": [
    "# train_mask = []\n",
    "# test_mask = []\n",
    "# \n",
    "# for i in range(640):\n",
    "#     train_mask.append(True)\n",
    "#     test_mask.append(False)\n",
    "# \n",
    "# for i in range(641, 800):\n",
    "#     train_mask.append(False)\n",
    "#     test_mask.append(True)"
   ],
   "metadata": {
    "collapsed": false
   },
   "id": "8fa996168bf19ab2"
  },
  {
   "cell_type": "code",
   "execution_count": null,
   "outputs": [],
   "source": [
    "# from collections import namedtuple\n",
    "# \n",
    "# Data = namedtuple('Data', ['x', 'y', 'adjacency_dict', 'train_mask', 'test_mask'])\n",
    "# \n",
    "# data = Data(x=np.array(x), y=np.array(yt), adjacency_dict=adjacency_dict,\n",
    "#                 train_mask=np.array(train_mask), test_mask=np.array(test_mask))"
   ],
   "metadata": {
    "collapsed": false
   },
   "id": "7333784c34062a10"
  }
 ],
 "metadata": {
  "kernelspec": {
   "display_name": "Python 3",
   "language": "python",
   "name": "python3"
  },
  "language_info": {
   "codemirror_mode": {
    "name": "ipython",
    "version": 2
   },
   "file_extension": ".py",
   "mimetype": "text/x-python",
   "name": "python",
   "nbconvert_exporter": "python",
   "pygments_lexer": "ipython2",
   "version": "2.7.6"
  }
 },
 "nbformat": 4,
 "nbformat_minor": 5
}
