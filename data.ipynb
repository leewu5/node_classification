{
 "cells": [
  {
   "cell_type": "code",
   "execution_count": 1,
   "id": "initial_id",
   "metadata": {
    "collapsed": true,
    "ExecuteTime": {
     "end_time": "2023-10-26T09:55:43.158785Z",
     "start_time": "2023-10-26T09:55:40.536198300Z"
    }
   },
   "outputs": [],
   "source": [
    "import numpy as np\n",
    "edges = np.loadtxt(\"DBLP\\edges.txt\", dtype=int)"
   ]
  },
  {
   "cell_type": "code",
   "execution_count": 3,
   "outputs": [],
   "source": [
    "dict = {}\n",
    "\n",
    "for i in range(4057):\n",
    "    dict[i] = []\n",
    "\n",
    "for array in edges:\n",
    "    dict[array[0]].append(array[1])"
   ],
   "metadata": {
    "collapsed": false,
    "ExecuteTime": {
     "end_time": "2023-10-26T09:57:53.233832300Z",
     "start_time": "2023-10-26T09:57:51.178875800Z"
    }
   },
   "id": "f02810a4b4a0b837"
  },
  {
   "cell_type": "code",
   "execution_count": 6,
   "outputs": [],
   "source": [
    "x = []\n",
    "for i in range(4057):\n",
    "    x.append([1])"
   ],
   "metadata": {
    "collapsed": false,
    "ExecuteTime": {
     "end_time": "2023-10-26T10:02:21.183671500Z",
     "start_time": "2023-10-26T10:02:21.140877Z"
    }
   },
   "id": "20aaa951b707befc"
  },
  {
   "cell_type": "code",
   "execution_count": 9,
   "outputs": [
    {
     "data": {
      "text/plain": "800"
     },
     "execution_count": 9,
     "metadata": {},
     "output_type": "execute_result"
    }
   ],
   "source": [
    "labels = np.loadtxt(\"DBLP\\labels.txt\", dtype=int)\n",
    "len(labels)\n",
    "qifei"
   ],
   "metadata": {
    "collapsed": false,
    "ExecuteTime": {
     "end_time": "2023-10-26T10:16:51.971007100Z",
     "start_time": "2023-10-26T10:16:51.964178Z"
    }
   },
   "id": "645b0d4149f20377"
  }
 ],
 "metadata": {
  "kernelspec": {
   "display_name": "Python 3",
   "language": "python",
   "name": "python3"
  },
  "language_info": {
   "codemirror_mode": {
    "name": "ipython",
    "version": 2
   },
   "file_extension": ".py",
   "mimetype": "text/x-python",
   "name": "python",
   "nbconvert_exporter": "python",
   "pygments_lexer": "ipython2",
   "version": "2.7.6"
  }
 },
 "nbformat": 4,
 "nbformat_minor": 5
}
